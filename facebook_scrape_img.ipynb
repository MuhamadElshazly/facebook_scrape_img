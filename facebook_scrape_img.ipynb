{
 "cells": [
  {
   "cell_type": "code",
   "execution_count": 2,
   "id": "b0360616",
   "metadata": {},
   "outputs": [
    {
     "name": "stdout",
     "output_type": "stream",
     "text": [
      "Collecting wget\n",
      "  Downloading wget-3.2.zip (10 kB)\n",
      "Building wheels for collected packages: wget\n",
      "  Building wheel for wget (setup.py): started\n",
      "  Building wheel for wget (setup.py): finished with status 'done'\n",
      "  Created wheel for wget: filename=wget-3.2-py3-none-any.whl size=9675 sha256=f6010466b4ec1e5b0e5fb104738dabc824d2830669f8f16032ee49fe5c9b940e\n",
      "  Stored in directory: c:\\users\\active\\appdata\\local\\pip\\cache\\wheels\\04\\5f\\3e\\46cc37c5d698415694d83f607f833f83f0149e49b3af9d0f38\n",
      "Successfully built wget\n",
      "Installing collected packages: wget\n",
      "Successfully installed wget-3.2\n"
     ]
    }
   ],
   "source": [
    "#!pip install wget"
   ]
  },
  {
   "cell_type": "code",
   "execution_count": 1,
   "id": "5f26306c",
   "metadata": {},
   "outputs": [],
   "source": [
    "#imports here\n",
    "from selenium import webdriver\n",
    "from selenium.webdriver.common.keys import Keys\n",
    "from selenium.webdriver.support import expected_conditions as EC\n",
    "from selenium.webdriver.common.by import By\n",
    "from selenium.webdriver.support.wait import WebDriverWait\n",
    "from time import sleep\n",
    "import os\n",
    "import wget\n",
    "from bs4 import BeautifulSoup"
   ]
  },
  {
   "cell_type": "code",
   "execution_count": 2,
   "id": "95f8bb99",
   "metadata": {},
   "outputs": [
    {
     "name": "stderr",
     "output_type": "stream",
     "text": [
      "C:\\Users\\ACTIVE\\AppData\\Local\\Temp\\ipykernel_5940\\1651560949.py:10: DeprecationWarning: use options instead of chrome_options\n",
      "  driver= webdriver.Chrome(chrome_options=chrome_options)\n"
     ]
    }
   ],
   "source": [
    "##############################\n",
    "# opening to website\n",
    "##############################\n",
    "#code by pythonjar, not me\n",
    "chrome_options = webdriver.ChromeOptions()\n",
    "prefs = {\"profile.default_content_setting_values.notifications\" : 2}\n",
    "chrome_options.add_experimental_option(\"prefs\",prefs)\n",
    "#driver = webdriver.Chrome(chrome_options=chrome_options)\n",
    "\n",
    "driver= webdriver.Chrome(chrome_options=chrome_options)\n",
    "sleep(2)\n",
    "url = 'http://www.facebook.com'\n",
    "driver.get(url)\n",
    "sleep(10)"
   ]
  },
  {
   "cell_type": "code",
   "execution_count": 3,
   "id": "b12f8b39",
   "metadata": {},
   "outputs": [],
   "source": [
    "#target username\n",
    "username = WebDriverWait(driver, 10).until(EC.element_to_be_clickable((By.CSS_SELECTOR, \"input[name='email']\")))\n",
    "password = WebDriverWait(driver, 10).until(EC.element_to_be_clickable((By.CSS_SELECTOR, \"input[name='pass']\")))\n",
    "\n",
    "#enter username and password\n",
    "username.clear()\n",
    "username.send_keys(\"Username\")\n",
    "password.clear()\n",
    "password.send_keys(\"Password\")\n",
    "\n",
    "#target the login button and click it\n",
    "button = WebDriverWait(driver, 2).until(EC.element_to_be_clickable((By.CSS_SELECTOR, \"button[type='submit']\"))).click()\n",
    "\n",
    "#We are logged in!"
   ]
  },
  {
   "cell_type": "code",
   "execution_count": 6,
   "id": "ac8d483b",
   "metadata": {},
   "outputs": [
    {
     "name": "stderr",
     "output_type": "stream",
     "text": [
      "C:\\Users\\ACTIVE\\AppData\\Local\\Temp\\ipykernel_5940\\2558277150.py:18: DeprecationWarning: find_elements_by_* commands are deprecated. Please use find_elements() instead\n",
      "  anchors = driver.find_elements_by_tag_name('a')\n"
     ]
    },
    {
     "name": "stdout",
     "output_type": "stream",
     "text": [
      "Found 3 links to images\n",
      "I scraped 3 images!\n"
     ]
    }
   ],
   "source": [
    "#wait 5 seconds to allow your new page to load\n",
    "images = [] \n",
    "\n",
    "#itterate over both uploaded and tagged images respectively\n",
    "for i in [\"photos\"]:\n",
    "    \n",
    "    driver.get(\"https://www.facebook.com/............/\" + i + \"/\")\n",
    "    sleep(5)\n",
    "    \n",
    "    #scroll dwn\n",
    "    #increase the range to sroll more\n",
    "    #example: range(0,10) scrolls down 650+ images\n",
    "    for j in range(0,0):\n",
    "        driver.execute_script(\"window.scrollTo(0, document.body.scrollHeight);\")\n",
    "        time.sleep(5)\n",
    "\n",
    "    #target all the link elements on the page\n",
    "    anchors = driver.find_elements_by_tag_name('a')\n",
    "    anchors = [a.get_attribute('href') for a in anchors]\n",
    "    anchors = [a for a in anchors if str(a).startswith(\"https://www.facebook.com/photo\")]\n",
    "    #narrow down all links to image links only\n",
    "    #print(anchors)\n",
    "    #print('-----------')\n",
    "    \n",
    "    print('Found ' + str(len(anchors)) + ' links to images')\n",
    "    \n",
    "    #extract the [1]st image element in each link\n",
    "    for a in anchors:\n",
    "        driver.get(a)\n",
    "        sleep(5)\n",
    "        page_source = BeautifulSoup(driver.page_source)\n",
    "        links = page_source.find(\"img\",{\"class\":\"x85a59c x193iq5w x4fas0m x19kjcj4\"})\n",
    "        #print(links)\n",
    "        #link_URL = links.get('src')\n",
    "        #print(link_URL)\n",
    "        images.append(links.get('src')) #may change in future to img[?]\n",
    "\n",
    "print('I scraped '+ str(len(images)) + ' images!')    \n",
    "    \n",
    "        "
   ]
  },
  {
   "cell_type": "code",
   "execution_count": 7,
   "id": "dc4f0fb7",
   "metadata": {},
   "outputs": [
    {
     "data": {
      "text/plain": [
       "['https://www.facebook.com/photo/?fbid=1110462699030676&set=a.361066943970259',\n",
       " 'https://www.facebook.com/photo.php?fbid=863735283777768&set=t.100002008683174&type=3',\n",
       " 'https://www.facebook.com/photo.php?fbid=1099383663471913&set=t.100002008683174&type=3']"
      ]
     },
     "execution_count": 7,
     "metadata": {},
     "output_type": "execute_result"
    }
   ],
   "source": [
    "anchors"
   ]
  },
  {
   "cell_type": "code",
   "execution_count": 8,
   "id": "b903ea9f",
   "metadata": {},
   "outputs": [],
   "source": [
    "path = os.getcwd()\n",
    "path = os.path.join(path, \"FB_SCRAPED_3\")\n",
    "\n",
    "#create the directory\n",
    "os.mkdir(path)\n"
   ]
  },
  {
   "cell_type": "code",
   "execution_count": 9,
   "id": "f1d275ba",
   "metadata": {},
   "outputs": [
    {
     "name": "stdout",
     "output_type": "stream",
     "text": [
      "100% [..............................................................................] 34973 / 34973"
     ]
    }
   ],
   "source": [
    "#download images\n",
    "counter = 0\n",
    "for image in images:\n",
    "    save_as = os.path.join(path, str(counter) + '.jpg')\n",
    "    wget.download(image, save_as)\n",
    "    counter += 1\n"
   ]
  },
  {
   "cell_type": "code",
   "execution_count": null,
   "id": "1b6ceb7d",
   "metadata": {},
   "outputs": [],
   "source": []
  }
 ],
 "metadata": {
  "kernelspec": {
   "display_name": "Python 3 (ipykernel)",
   "language": "python",
   "name": "python3"
  },
  "language_info": {
   "codemirror_mode": {
    "name": "ipython",
    "version": 3
   },
   "file_extension": ".py",
   "mimetype": "text/x-python",
   "name": "python",
   "nbconvert_exporter": "python",
   "pygments_lexer": "ipython3",
   "version": "3.9.12"
  }
 },
 "nbformat": 4,
 "nbformat_minor": 5
}
